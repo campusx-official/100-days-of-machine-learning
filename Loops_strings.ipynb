{
  "nbformat": 4,
  "nbformat_minor": 0,
  "metadata": {
    "colab": {
      "provenance": [],
      "authorship_tag": "ABX9TyMJ29p07RzOBWPbumvNjIPF",
      "include_colab_link": true
    },
    "kernelspec": {
      "name": "python3",
      "display_name": "Python 3"
    },
    "language_info": {
      "name": "python"
    }
  },
  "cells": [
    {
      "cell_type": "markdown",
      "metadata": {
        "id": "view-in-github",
        "colab_type": "text"
      },
      "source": [
        "<a href=\"https://colab.research.google.com/github/Abdul-Hannan96/100-days-of-machine-learning/blob/main/Loops_strings.ipynb\" target=\"_parent\"><img src=\"https://colab.research.google.com/assets/colab-badge.svg\" alt=\"Open In Colab\"/></a>"
      ]
    },
    {
      "cell_type": "markdown",
      "source": [
        "### `Problem 1` - Print the following pattern. Write a program to use for loop to print the following reverse number pattern.\n",
        "\n",
        "```bash\n",
        "5 4 3 2 1\n",
        "4 3 2 1\n",
        "3 2 1\n",
        "2 1\n",
        "1\n",
        "```"
      ],
      "metadata": {
        "id": "qi53VZLsKAUZ"
      }
    },
    {
      "cell_type": "code",
      "source": [
        "rows=int(input('Enter the rows'))\n",
        "\n",
        "for i in range(0,rows+1):\n",
        "  for j in range(rows-i,0,-1):\n",
        "    print(j,end='')\n",
        "\n",
        "  print()"
      ],
      "metadata": {
        "colab": {
          "base_uri": "https://localhost:8080/"
        },
        "id": "ogvuwL9_i_q2",
        "outputId": "bfab6126-5a79-4c31-8591-56979e125a1a"
      },
      "execution_count": null,
      "outputs": [
        {
          "output_type": "stream",
          "name": "stdout",
          "text": [
            "Enter the rows5\n",
            "54321\n",
            "4321\n",
            "321\n",
            "21\n",
            "1\n",
            "\n"
          ]
        }
      ]
    },
    {
      "cell_type": "markdown",
      "source": [
        "### `Problem 2`: Print the following pattern.\n",
        "\n",
        "```bash\n",
        "*\n",
        "* *\n",
        "* * *\n",
        "* * * *\n",
        "* * * * *\n",
        "* * * *\n",
        "* * *\n",
        "* *\n",
        "*\n",
        "```"
      ],
      "metadata": {
        "id": "jNayTGeEKz7n"
      }
    },
    {
      "cell_type": "code",
      "source": [
        "rows = int(input('enter the rows'))\n",
        "# in ascending manner\n",
        "for i in range(1,rows+1):\n",
        "  for j in range(0,i):\n",
        "    print('*',end='')\n",
        "  print()\n",
        "# in descending manner\n",
        "for i in range(1,rows):\n",
        "  for j in range(rows-i,0,-1):\n",
        "    print('*',end='')\n",
        "  print()\n"
      ],
      "metadata": {
        "colab": {
          "base_uri": "https://localhost:8080/"
        },
        "id": "opEtOQ7yKy4K",
        "outputId": "1080ec4f-3f96-4eba-d7cc-a1060d88c5bd"
      },
      "execution_count": null,
      "outputs": [
        {
          "output_type": "stream",
          "name": "stdout",
          "text": [
            "enter the rows5\n",
            "*\n",
            "**\n",
            "***\n",
            "****\n",
            "*****\n",
            "****\n",
            "***\n",
            "**\n",
            "*\n"
          ]
        }
      ]
    },
    {
      "cell_type": "markdown",
      "source": [
        "### `Problem 3`:Write a program to pring the following pattern\n",
        "\n",
        "        *\n",
        "       * *\n",
        "      * * *\n",
        "   * * * * * * *\n",
        "* * * * * * * * *\n"
      ],
      "metadata": {
        "id": "v6XfCvtALppp"
      }
    },
    {
      "cell_type": "code",
      "source": [
        "# number of rows*no of blanks->6 on first iteration,5 on second iteration and so on\n",
        "rows=6\n",
        "\n",
        "for i in range(1,rows+1):\n",
        "  print(' '*rows,end='')\n",
        "  print('* '*i)\n",
        "  rows=rows-1"
      ],
      "metadata": {
        "colab": {
          "base_uri": "https://localhost:8080/"
        },
        "id": "3MpDmkPIkKGB",
        "outputId": "a0b8044c-87a2-4c8e-eecf-81e243273087"
      },
      "execution_count": null,
      "outputs": [
        {
          "output_type": "stream",
          "name": "stdout",
          "text": [
            "      * \n",
            "     * * \n",
            "    * * * \n",
            "   * * * * \n",
            "  * * * * * \n",
            " * * * * * * \n"
          ]
        }
      ]
    },
    {
      "cell_type": "markdown",
      "source": [
        "### `Problem 4`:Write a program to print the following pattern\n",
        "\n",
        "1\n",
        "\n",
        "2 1\n",
        "\n",
        "3 2 1\n",
        "\n",
        "4 3 2 1\n",
        "\n",
        "5 4 3 2 1"
      ],
      "metadata": {
        "id": "3NsqoaDiNH9K"
      }
    },
    {
      "cell_type": "code",
      "source": [
        "rows=int(input('Enter the numbe rof rows'))\n",
        "\n",
        "for i in range(1,rows+1):\n",
        "  for j in range(i,0,-1):\n",
        "    print(j,end='')\n",
        "  print()"
      ],
      "metadata": {
        "colab": {
          "base_uri": "https://localhost:8080/"
        },
        "id": "9D7GGGqrkiXb",
        "outputId": "465e6fe2-7f6f-420e-9466-d62747bb9bf8"
      },
      "execution_count": null,
      "outputs": [
        {
          "output_type": "stream",
          "name": "stdout",
          "text": [
            "Enter the numbe rof rows5\n",
            "1\n",
            "21\n",
            "321\n",
            "4321\n",
            "54321\n"
          ]
        }
      ]
    },
    {
      "cell_type": "markdown",
      "source": [
        "### `Problem 5`: Write a Python Program to Find the Sum of the Series till the nth term:<br>\n",
        "1 + x^2/2 + x^3/3 + … x^n/n<br>\n",
        "n will be provided by the user"
      ],
      "metadata": {
        "id": "-P_HTq8DWrF6"
      }
    },
    {
      "cell_type": "code",
      "source": [
        "x=10\n",
        "n=5\n",
        "\n",
        "sum=1\n",
        "s=''\n",
        "print('1 +',end='')\n",
        "\n",
        "for i in range(2,n+1):\n",
        "  # expression here\n",
        "  sum=sum+x**i/i\n",
        "  s=s+'x^{}/{} +'.format(i,i)\n",
        "\n",
        "print(s[:-1])\n",
        "print(round(sum,2))"
      ],
      "metadata": {
        "colab": {
          "base_uri": "https://localhost:8080/"
        },
        "id": "8bs1xOEak1_y",
        "outputId": "58fcddde-18d5-4621-cc9c-0c6e0ec71f41"
      },
      "execution_count": null,
      "outputs": [
        {
          "output_type": "stream",
          "name": "stdout",
          "text": [
            "1 +x^2/2 +x^3/3 +x^4/4 +x^5/5 \n",
            "22884.33\n"
          ]
        }
      ]
    },
    {
      "cell_type": "markdown",
      "source": [
        "### `Problem 6`: The natural logarithm can be approximated by the following\n",
        "\n",
        "*   List item\n",
        "\n",
        "*   List item\n",
        "*   List item\n",
        "\n",
        "\n",
        "*   List item\n",
        "\n",
        "series.\n",
        "\n",
        "**OUtput:\n",
        "(1/1)*((x-1)/x)^1 +(1/2)*((x-1)/x)^2 +(1/3)*((x-1)/x)^3 +(1/4)*((x-1)/x)^4 +(1/5)*((x-1)/x)^5**\n",
        "\n"
      ],
      "metadata": {
        "id": "zWvFpmaWXfMe"
      }
    },
    {
      "cell_type": "code",
      "source": [
        "x=10\n",
        "n=5\n",
        "\n",
        "sum=0\n",
        "\n",
        "s=''\n",
        "\n",
        "for i in range(1,n+1):\n",
        "  # expression here\n",
        "  sum=sum+(1/i)*((x-1)/x)**i\n",
        "  s=s+'1/{}*((x-1)/x)^{} +'.format(i,i)\n",
        "\n",
        "print(s[:-1])\n",
        "print(round(sum,2))"
      ],
      "metadata": {
        "colab": {
          "base_uri": "https://localhost:8080/"
        },
        "id": "BCg5jyTblzi1",
        "outputId": "0ae427e9-94bc-4bbd-f438-abffa4a82392"
      },
      "execution_count": null,
      "outputs": [
        {
          "output_type": "stream",
          "name": "stdout",
          "text": [
            "1/1*((x-1)/x)^1 +1/2*((x-1)/x)^2 +1/3*((x-1)/x)^3 +1/4*((x-1)/x)^4 +1/5*((x-1)/x)^5 \n",
            "1.83\n"
          ]
        }
      ]
    },
    {
      "cell_type": "markdown",
      "source": [
        "### `Problem 7` - Find the sum of the series upto n terms.\n",
        "Write a program to calculate the sum of series up to n term. For example, if n =5 the series will become 2 + 22 + 222 + 2222 + 22222 = 24690. Take the user input and then calculate. And the output style should match which is given in the example.\n",
        "\n",
        "**Example 1:**\n",
        "\n",
        "`Input:`\n",
        "```bash\n",
        "5\n",
        "```\n",
        "\n",
        "`Output:`\n",
        "\n",
        "```bash\n",
        "2+22+222+2222+22222\n",
        "Sum of above series is: 24690\n",
        "```"
      ],
      "metadata": {
        "id": "g9raf_Lyr-tb"
      }
    },
    {
      "cell_type": "code",
      "source": [
        "start=2\n",
        "sum=0\n",
        "\n",
        "n=int(input('Enter valid integer number'))\n",
        "\n",
        "for i in range(0,n):\n",
        "  # condition till even number\n",
        "  if i<n-1:\n",
        "    print(start,end='+')\n",
        "\n",
        "  else:\n",
        "    print(start)\n",
        "\n",
        "  # it will add sum and print sum in final result\n",
        "  sum=sum+start\n",
        "  # convert number to 22,222\n",
        "  start=start*10+2\n",
        "\n",
        "print(sum)"
      ],
      "metadata": {
        "colab": {
          "base_uri": "https://localhost:8080/"
        },
        "id": "ocblb2wYm0TQ",
        "outputId": "f5d67a04-8dbd-49d9-cd8d-a600a3586762"
      },
      "execution_count": null,
      "outputs": [
        {
          "output_type": "stream",
          "name": "stdout",
          "text": [
            "Enter valid integer number5\n",
            "2+22+222+2222+22222\n",
            "24690\n"
          ]
        }
      ]
    },
    {
      "cell_type": "markdown",
      "source": [
        "###`Problem 8`: Write a program to print all the unique combinations of 1,2,3 and 4\n",
        "\n",
        "`Output`:\n",
        "```\n",
        "1 2 3 4\n",
        "1 2 4 3\n",
        "1 3 2 4\n",
        "1 3 4 2\n",
        "1 4 2 3\n",
        "1 4 3 2\n",
        "2 1 3 4\n",
        "2 1 4 3\n",
        "2 3 1 4\n",
        "2 3 4 1\n",
        "2 4 1 3\n",
        ".\n",
        ".\n",
        "and so on\n",
        "```"
      ],
      "metadata": {
        "id": "u7RdI6eXwA10"
      }
    },
    {
      "cell_type": "code",
      "source": [
        "# --> run to get output\n",
        "# for i in range(1,5):\n",
        "#   for j in range(1,5):\n",
        "#     for k in range(1,5):\n",
        "#       for l in range(1,5):\n",
        "#         print(i,j,k,l)\n"
      ],
      "metadata": {
        "id": "Jge3f4INwAbk"
      },
      "execution_count": null,
      "outputs": []
    },
    {
      "cell_type": "markdown",
      "source": [
        "###`Problem 9`: Write a program that will take a decimal number as input and prints out the binary equivalent of the number"
      ],
      "metadata": {
        "id": "OSC_nBTNw73U"
      }
    },
    {
      "cell_type": "code",
      "source": [
        "n=int(input(\"Enter valid integer number\"))\n",
        "binary=[]\n",
        "\n",
        "for i in range(1,n):\n",
        "  # convert into binary\n",
        "  b=n%2\n",
        "  binary.append(b)\n",
        " # absolute numbers 2.2->2 and so on\n",
        "  n=n//2\n",
        "\n",
        "for i in binary[::-1]:\n",
        "  print(i,end=' ')"
      ],
      "metadata": {
        "colab": {
          "base_uri": "https://localhost:8080/"
        },
        "id": "hEqLkQ6Onl4z",
        "outputId": "e1a23cf7-0bbc-42f0-c469-23fdfb76c888"
      },
      "execution_count": null,
      "outputs": [
        {
          "output_type": "stream",
          "name": "stdout",
          "text": [
            "Enter valid integer number5\n",
            "0 1 0 1 "
          ]
        }
      ]
    },
    {
      "cell_type": "markdown",
      "source": [
        "###`Problem 10`: Write a program that will take 2 numbers as input and prints the LCM and HCF of those 2 numbers"
      ],
      "metadata": {
        "id": "bz3N75pYycoh"
      }
    },
    {
      "cell_type": "code",
      "source": [
        "# LCM\n",
        "x=int(input('Enter first number'))\n",
        "y=int(input('Enter second number'))\n",
        "\n",
        "if x<y:\n",
        "  greater=x\n",
        "\n",
        "else:\n",
        "  greater=y\n",
        "\n",
        "while True:\n",
        "  # lcm here\n",
        "  if(greater%x==0) and (greater%y==0):\n",
        "    lcm=greater\n",
        "    break\n",
        "\n",
        "  greater=greater+1\n",
        "\n",
        "print(lcm)"
      ],
      "metadata": {
        "colab": {
          "base_uri": "https://localhost:8080/"
        },
        "id": "3hIWVpB0oHwf",
        "outputId": "a6b6c4a8-36a2-49ba-9c65-08e5a71a0bfa"
      },
      "execution_count": null,
      "outputs": [
        {
          "output_type": "stream",
          "name": "stdout",
          "text": [
            "Enter first number10\n",
            "Enter second number15\n",
            "30\n"
          ]
        }
      ]
    },
    {
      "cell_type": "code",
      "source": [
        "# HCF\n",
        "x=int(input('Enter first number'))\n",
        "y=int(input('Enter second number'))\n",
        "\n",
        "if x<y:\n",
        "  smaller=x\n",
        "\n",
        "else:\n",
        "  smaller=x\n",
        "\n",
        "for i in range(1,smaller+1):\n",
        "  if(x%i==0) and (y%i==0):\n",
        "     hcf=i\n",
        "\n",
        "\n",
        "\n",
        "\n",
        "print(hcf)"
      ],
      "metadata": {
        "colab": {
          "base_uri": "https://localhost:8080/"
        },
        "id": "_QULulKYo3U6",
        "outputId": "fe43693f-34cf-42c4-9244-d3369f6545a7"
      },
      "execution_count": null,
      "outputs": [
        {
          "output_type": "stream",
          "name": "stdout",
          "text": [
            "Enter first number12\n",
            "Enter second number16\n",
            "4\n"
          ]
        }
      ]
    },
    {
      "cell_type": "markdown",
      "source": [
        "### **Problem 11:** Create Short Form from initial character\n",
        "Given a string create short form ofthe string from Initial character. Short form should be capitalised.\n",
        "\n",
        "Example:\n",
        "\n",
        "`Input:`\n",
        "```\n",
        "Data science mentorship program\n",
        "```\n",
        "\n",
        "`Output:`\n",
        "```\n",
        "DSMP\n",
        "```"
      ],
      "metadata": {
        "id": "T_1x6-a5O9Ok"
      }
    },
    {
      "cell_type": "code",
      "source": [
        "input = 'Data science Mentorship Program'\n",
        "\n",
        "res=''\n",
        "for i in input.split():\n",
        "  short=i[0].upper()\n",
        "  res=res+short\n",
        "\n",
        "\n",
        "print(res)"
      ],
      "metadata": {
        "colab": {
          "base_uri": "https://localhost:8080/"
        },
        "id": "u_xPnZf0peEW",
        "outputId": "8648f232-0622-4925-af22-71836bc9d03c"
      },
      "execution_count": null,
      "outputs": [
        {
          "output_type": "stream",
          "name": "stdout",
          "text": [
            "DSMP\n"
          ]
        }
      ]
    },
    {
      "cell_type": "markdown",
      "source": [
        "###`Problem 12`: Append second string in the middle of first string\n",
        "\n",
        "`Input:`\n",
        "```\n",
        "campusx\n",
        "data\n",
        "```\n",
        "`Output`:\n",
        "\n",
        "```\n",
        "camdatapusx\n",
        "```"
      ],
      "metadata": {
        "id": "eOyzj5xGP6Jk"
      }
    },
    {
      "cell_type": "code",
      "source": [
        "\n",
        "s1 = input('Enter the first string')\n",
        "s2 = input('Enter the second string')\n",
        "\n",
        "\n",
        "# adding word between two words\n",
        "print(s1[0:int(len(s1)/2)]+s2+s1[int(len(s2)/2):])"
      ],
      "metadata": {
        "colab": {
          "base_uri": "https://localhost:8080/"
        },
        "id": "Rr3mXoFVQmqd",
        "outputId": "d47e3070-e15e-407e-94f0-972545f862f1"
      },
      "execution_count": null,
      "outputs": [
        {
          "output_type": "stream",
          "name": "stdout",
          "text": [
            "Enter the first stringcampusx\n",
            "Enter the second stringdata\n",
            "camdatampusx\n"
          ]
        }
      ]
    },
    {
      "cell_type": "markdown",
      "source": [
        "### ``Problem 13``:Given string contains a combination of the lower and upper case letters. Write a program to arrange the characters of a string so that all lowercase letters should come first.\n",
        "\n",
        "Given:\n",
        "\n",
        "`str1 = PyNaTive`\n",
        "\n",
        "Expected Output:\n",
        "\n",
        "`yaivePNT`"
      ],
      "metadata": {
        "id": "EfMXs_thR81_"
      }
    },
    {
      "cell_type": "code",
      "source": [
        "s='PyNaTive'\n",
        "\n",
        "upper=''\n",
        "lower=''\n",
        "\n",
        "for i in s:\n",
        "  if i.islower():\n",
        "    lower=lower+i\n",
        "\n",
        "  elif i.isupper():\n",
        "    upper=upper+i\n",
        "\n",
        "  else:\n",
        "    pass\n",
        "\n",
        "print(lower+upper)\n",
        "\n"
      ],
      "metadata": {
        "colab": {
          "base_uri": "https://localhost:8080/"
        },
        "id": "fXKUAaO7qpCZ",
        "outputId": "4a3f6b13-fcd4-4b68-a893-0481495c4eab"
      },
      "execution_count": null,
      "outputs": [
        {
          "output_type": "stream",
          "name": "stdout",
          "text": [
            "yaivePNT\n"
          ]
        }
      ]
    },
    {
      "cell_type": "markdown",
      "source": [
        "### `Problem 14:`Take a alphanumeric string input and print the sum and average of the digits that appear in the string, ignoring all other characters.\n",
        "\n",
        "Input:\n",
        "\n",
        "`hel123O4every093`\n",
        "\n",
        "Output:\n",
        "\n",
        "```\n",
        "Sum: 22\n",
        "Avg: 2.75\n",
        "```"
      ],
      "metadata": {
        "id": "kSSUWMHJSwql"
      }
    },
    {
      "cell_type": "code",
      "source": [
        "s='hel123O4every093'\n",
        "\n",
        "sum=0\n",
        "count=0\n",
        "\n",
        "for i in s:\n",
        "  if i.isdigit():\n",
        "    count=count+1\n",
        "    sum=sum+int(i)\n",
        "\n",
        "print('sum',sum)\n",
        "print('average',round(sum/count,2))"
      ],
      "metadata": {
        "colab": {
          "base_uri": "https://localhost:8080/"
        },
        "id": "oisnh5x2tycQ",
        "outputId": "4f8ebf89-940a-41e0-d54d-5ed2627c1767"
      },
      "execution_count": null,
      "outputs": [
        {
          "output_type": "stream",
          "name": "stdout",
          "text": [
            "sum 22\n",
            "average 3.14\n"
          ]
        }
      ]
    },
    {
      "cell_type": "markdown",
      "source": [
        "\n",
        "### `Problem 15:` Removal of all characters from a string except integers\n",
        "`Given:`\n",
        "\n",
        "```\n",
        "str1 = 'I am 25 years and 10 months old'\n",
        "```\n",
        "`Expected Output:`\n",
        "```\n",
        "2510\n",
        "```"
      ],
      "metadata": {
        "id": "D92Ihc2ZT4bt"
      }
    },
    {
      "cell_type": "code",
      "source": [
        "str1 = 'I am 25 years and 10 months old'\n",
        "res=''\n",
        "\n",
        "for i in str1:\n",
        "  if i.isdigit():\n",
        "    res=res+i\n",
        "\n",
        "print(res)"
      ],
      "metadata": {
        "colab": {
          "base_uri": "https://localhost:8080/"
        },
        "id": "AzAV2iuRuSIA",
        "outputId": "8d5294c8-4c92-45a6-d2ff-7529af57f7ae"
      },
      "execution_count": null,
      "outputs": [
        {
          "output_type": "stream",
          "name": "stdout",
          "text": [
            "2510\n"
          ]
        }
      ]
    },
    {
      "cell_type": "markdown",
      "source": [
        "### `Problem 16`: Check whether the string is Symmetrical.\n",
        "\n",
        "**Statement:** Given a string. the task is to check if the string is symmetrical or not. A string is said to be symmetrical if both the halves of the string are the same.\n",
        "\n",
        "**Example 1:**\n",
        "\n",
        "`Input`\n",
        "\n",
        "```bash\n",
        "khokho\n",
        "```\n",
        "\n",
        "`Output`\n",
        "\n",
        "```bash\n",
        "The entered string is symmetrical\n",
        "```"
      ],
      "metadata": {
        "id": "cd73xh-2Wb-E"
      }
    },
    {
      "cell_type": "code",
      "source": [
        "s = input('enter the string')\n",
        "\n",
        "for i in s:\n",
        "  half=int(len(s)/2)\n",
        "  first_str=s[:half]\n",
        "  second_str=s[half:]\n",
        "\n",
        "\n",
        "if first_str==second_str:\n",
        "    print('String is symmeterical')\n",
        "\n",
        "else:\n",
        "    print('String is not symmetrical')"
      ],
      "metadata": {
        "colab": {
          "base_uri": "https://localhost:8080/"
        },
        "id": "hPoIoa4cucxZ",
        "outputId": "bd1d1ea9-b682-4e22-f4a1-afa9a6eee149"
      },
      "execution_count": null,
      "outputs": [
        {
          "output_type": "stream",
          "name": "stdout",
          "text": [
            "enter the stringmadam\n",
            "String is not symmetrical\n"
          ]
        }
      ]
    },
    {
      "cell_type": "code",
      "source": [
        "s = input('enter the string')\n",
        "\n",
        "for i in s:\n",
        "    half=int(len(s)/2)\n",
        "    first_str = s[:half]\n",
        "    second_str = s[half:]\n",
        "\n",
        "\n",
        "if first_str==second_str: # if first half is equal to second half\n",
        "      print('string is symmertrical')\n",
        "else:\n",
        "      print('not symmetrical')\n",
        "\n",
        "\n"
      ],
      "metadata": {
        "colab": {
          "base_uri": "https://localhost:8080/"
        },
        "id": "9RIzMx1gUutX",
        "outputId": "c834da01-8063-4fde-fe86-77d27e679586"
      },
      "execution_count": null,
      "outputs": [
        {
          "output_type": "stream",
          "name": "stdout",
          "text": [
            "enter the stringabab\n",
            "string is symmertrical\n"
          ]
        }
      ]
    },
    {
      "cell_type": "markdown",
      "source": [
        "### `Problem 17`: Reverse words in a given String\n",
        "\n",
        "**Statement:** We are given a string and we need to reverse words of a given string.\n",
        "\n",
        "**Example 1:**\n",
        "\n",
        "`Input:`\n",
        "\n",
        "```bash\n",
        "geeks quiz practice code\n",
        "```\n",
        "\n",
        "`Output:`\n",
        "\n",
        "```bash\n",
        "code practice quiz geeks\n",
        "```\n",
        "\n",
        "**Example 2:**\n",
        "\n",
        "`Input:`\n",
        "\n",
        "```bash\n",
        "my name is laxmi\n",
        "```\n",
        "\n",
        "`Output:`\n",
        "\n",
        "```bash\n",
        "laxmi is name my\n",
        "```"
      ],
      "metadata": {
        "id": "_H0hspA0Uuhf"
      }
    },
    {
      "cell_type": "code",
      "source": [
        "s = 'code practice quiz geeks'\n",
        "\n",
        "L=[]\n",
        "\n",
        "for i in s.split():\n",
        "  if i not in L:\n",
        "    L.append(i)\n",
        "\n",
        "L=L[::-1]\n",
        "print(\" \".join(L))"
      ],
      "metadata": {
        "colab": {
          "base_uri": "https://localhost:8080/"
        },
        "id": "zIGon1ZLvMci",
        "outputId": "11cbfd7b-7396-4f47-ef7a-b467b5e6669e"
      },
      "execution_count": null,
      "outputs": [
        {
          "output_type": "stream",
          "name": "stdout",
          "text": [
            "geeks quiz practice code\n"
          ]
        }
      ]
    },
    {
      "cell_type": "markdown",
      "source": [
        "### `Problem 18`: Find uncommon words from two Strings.\n",
        "\n",
        "**Statement:** Given two sentences as strings **A** and **B**. The task is to return a list of all uncommon words. A word is uncommon if it appears exactly once in any one of the sentences, and does not appear in the other sentence. Note: A sentence is a string of space-separated words. Each word consists only of lowercase letters.\n",
        "\n",
        "**Example 1:**\n",
        "\n",
        "`Input:`\n",
        "\n",
        "```bash\n",
        "A = \"apple banana mango\"\n",
        "B = \"banana fruits mango\"\n",
        "```\n",
        "\n",
        "`Output:`\n",
        "\n",
        "```bash\n",
        "['apple', 'fruits']\n",
        "```"
      ],
      "metadata": {
        "id": "ZNiQbd4_W6c-"
      }
    },
    {
      "cell_type": "code",
      "source": [
        "A = \"apple banana mango\"\n",
        "B = \"banana fruits mango\"\n",
        "L=[]\n",
        "for i in A.split():\n",
        "  if i not in B and i not in L:\n",
        "    L.append(i)\n",
        "\n",
        "for j in B.split():\n",
        "  if j not in A and j not in L:\n",
        "    L.append(i)\n",
        "\n",
        "print(L)"
      ],
      "metadata": {
        "colab": {
          "base_uri": "https://localhost:8080/"
        },
        "id": "k2lkz3oKvliQ",
        "outputId": "50343a10-c360-4c09-ba6f-5599cc87df2e"
      },
      "execution_count": null,
      "outputs": [
        {
          "output_type": "stream",
          "name": "stdout",
          "text": [
            "['apple', 'mango']\n"
          ]
        }
      ]
    },
    {
      "cell_type": "markdown",
      "source": [
        "### `Problem 19`: Word location in String.\n",
        "\n",
        "**Statement:** Find a location of a word in a given sentence.\n",
        "\n",
        "**Example 1:**\n",
        "\n",
        "`Input:`\n",
        "\n",
        "```bash\n",
        "Sentence: We can learn data science through campusx mentorship program.\n",
        "\n",
        "word: campusx\n",
        "```\n",
        "\n",
        "`Output:`\n",
        "\n",
        "```bash\n",
        "Location of the word is 7.\n",
        "```\n",
        "\n",
        "Note- Don't use index/find functions"
      ],
      "metadata": {
        "id": "_dshHbicYVpd"
      }
    },
    {
      "cell_type": "code",
      "source": [
        "s= 'We can learn data science through campusx mentorship program'\n",
        "\n",
        "word='campusx'\n",
        "\n",
        "pos=0\n",
        "for i in s.split():\n",
        "  pos=pos+1\n",
        "\n",
        "  if i==word:\n",
        "    break\n",
        "\n",
        "print(pos)"
      ],
      "metadata": {
        "colab": {
          "base_uri": "https://localhost:8080/"
        },
        "id": "ZOD16NL_v6V5",
        "outputId": "16e01e35-13a7-4def-acd8-9edbf04e37d5"
      },
      "execution_count": null,
      "outputs": [
        {
          "output_type": "stream",
          "name": "stdout",
          "text": [
            "7\n"
          ]
        }
      ]
    },
    {
      "cell_type": "markdown",
      "source": [
        "### `Problem 20`: Write a program that can remove all the duplicate characters from a string. User will provide the input."
      ],
      "metadata": {
        "id": "UDhlN6nVZGel"
      }
    },
    {
      "cell_type": "code",
      "source": [
        "s = 'aaaabbbbbccccdddeeeeffff'\n",
        "\n",
        "res=''\n",
        "for i in s:\n",
        "  if i not in res:\n",
        "    res=res+i\n",
        "\n",
        "print(res)"
      ],
      "metadata": {
        "colab": {
          "base_uri": "https://localhost:8080/"
        },
        "id": "12Y5jXIDwOuD",
        "outputId": "07c671c7-6e67-49da-f6c3-0de2161aafdd"
      },
      "execution_count": null,
      "outputs": [
        {
          "output_type": "stream",
          "name": "stdout",
          "text": [
            "abcdef\n"
          ]
        }
      ]
    }
  ]
}